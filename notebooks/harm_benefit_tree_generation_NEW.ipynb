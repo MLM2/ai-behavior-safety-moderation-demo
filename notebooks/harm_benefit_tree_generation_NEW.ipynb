{
 "cells": [
  {
   "cell_type": "code",
   "execution_count": 1,
   "id": "61dc3851",
   "metadata": {},
   "outputs": [
    {
     "name": "stdout",
     "output_type": "stream",
     "text": [
      "\n",
      "You are an AI safety analyst. Your task is to evaluate the following AI behavior and generate a structured harm-benefit tree.\n",
      "\n",
      "1. List potential **harms** of the behavior, with sub-categories:\n",
      "    - Category: [physical, psychological, social, legal, economic, reputational, political]\n",
      "    - For each harm: describe the potential impact, likelihood, immediacy, and severity.\n",
      "\n",
      "2. List potential **benefits** of the behavior, with sub-categories:\n",
      "    - Category: [personal utility, organizational utility, societal benefit, public good, innovation, knowledge advancement]\n",
      "    - For each benefit: describe the potential impact, likelihood, and positive extent.\n",
      "\n",
      "Behavior to analyze:\n",
      "\"An AI chatbot that automatically summarizes and distributes public news articles across social media platforms.\"\n",
      "\n",
      "Please format your output as a structured tree with categories and subpoints.\n",
      "\n"
     ]
    }
   ],
   "source": [
    "# Example CoT prompting template\n",
    "\n",
    "# Example prompt to the LLM\n",
    "prompt_template = \"\"\"\n",
    "You are an AI safety analyst. Your task is to evaluate the following AI behavior and generate a structured harm-benefit tree.\n",
    "\n",
    "1. List potential **harms** of the behavior, with sub-categories:\n",
    "    - Category: [physical, psychological, social, legal, economic, reputational, political]\n",
    "    - For each harm: describe the potential impact, likelihood, immediacy, and severity.\n",
    "\n",
    "2. List potential **benefits** of the behavior, with sub-categories:\n",
    "    - Category: [personal utility, organizational utility, societal benefit, public good, innovation, knowledge advancement]\n",
    "    - For each benefit: describe the potential impact, likelihood, and positive extent.\n",
    "\n",
    "Behavior to analyze:\n",
    "\"{AI_BEHAVIOR_PROMPT}\"\n",
    "\n",
    "Please format your output as a structured tree with categories and subpoints.\n",
    "\"\"\"\n",
    "\n",
    "# Example AI behavior prompt:\n",
    "ai_behavior_prompt = \"An AI chatbot that automatically summarizes and distributes public news articles across social media platforms.\"\n",
    "\n",
    "# Combine prompt\n",
    "full_prompt = prompt_template.replace(\"{AI_BEHAVIOR_PROMPT}\", ai_behavior_prompt)\n",
    "\n",
    "# Now send `full_prompt` to your LLM (example using OpenAI API — adjust as needed)\n",
    "# Example (pseudo-code):\n",
    "# response = openai.ChatCompletion.create(\n",
    "#     model=\"gpt-4o\",\n",
    "#     messages=[{\"role\": \"user\", \"content\": full_prompt}]\n",
    "# )\n",
    "# print(response['choices'][0]['message']['content'])\n",
    "\n",
    "# For demonstration, you can simply copy/paste `full_prompt` into ChatGPT or other LLM manually and view the result.\n",
    "\n",
    "print(full_prompt)\n"
   ]
  }
 ],
 "metadata": {
  "kernelspec": {
   "display_name": "Python 3",
   "language": "python",
   "name": "python3"
  },
  "language_info": {
   "codemirror_mode": {
    "name": "ipython",
    "version": 3
   },
   "file_extension": ".py",
   "mimetype": "text/x-python",
   "name": "python",
   "nbconvert_exporter": "python",
   "pygments_lexer": "ipython3",
   "version": "3.13.2"
  }
 },
 "nbformat": 4,
 "nbformat_minor": 5
}
